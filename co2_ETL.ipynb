{
 "cells": [
  {
   "cell_type": "code",
   "execution_count": null,
   "id": "30541752",
   "metadata": {},
   "outputs": [],
   "source": [
    "import pandas as pd"
   ]
  },
  {
   "cell_type": "markdown",
   "id": "70bb73fb",
   "metadata": {},
   "source": [
    "## Extraction"
   ]
  },
  {
   "cell_type": "code",
   "execution_count": null,
   "id": "16554a40",
   "metadata": {},
   "outputs": [],
   "source": [
    "# define csv variable from github raw website\n",
    "csv = \"https://raw.githubusercontent.com/owid/co2-data/master/owid-co2-data.csv\""
   ]
  },
  {
   "cell_type": "code",
   "execution_count": null,
   "id": "557b3c94",
   "metadata": {},
   "outputs": [],
   "source": [
    "# define DF variable to read CSV\n",
    "co2_df = pd.read_csv(csv)"
   ]
  },
  {
   "cell_type": "code",
   "execution_count": null,
   "id": "5e2b1bcd",
   "metadata": {},
   "outputs": [],
   "source": [
    "# show head results\n",
    "co2_df.head()"
   ]
  },
  {
   "cell_type": "markdown",
   "id": "d2755374",
   "metadata": {},
   "source": [
    "## Transformation"
   ]
  },
  {
   "cell_type": "code",
   "execution_count": null,
   "id": "0c36e09d",
   "metadata": {},
   "outputs": [],
   "source": [
    "# pick only dates after 1972\n",
    "co2_df_cleaned = co2_df.loc[co2_df['year']>=1972,:]"
   ]
  },
  {
   "cell_type": "code",
   "execution_count": null,
   "id": "423893d8",
   "metadata": {},
   "outputs": [],
   "source": [
    "# display country names to help see which to remove\n",
    "co2_df_cleaned['country'].unique()"
   ]
  },
  {
   "cell_type": "code",
   "execution_count": null,
   "id": "4f9e05f6",
   "metadata": {},
   "outputs": [],
   "source": [
    "# display columns to see which to remove\n",
    "co2_df_cleaned.columns"
   ]
  },
  {
   "cell_type": "code",
   "execution_count": null,
   "id": "103ff9c6",
   "metadata": {},
   "outputs": [],
   "source": [
    "# select columns for new DF\n",
    "co2_df_cleaned=co2_df_cleaned[['country', 'year', 'iso_code', 'population', 'gdp','co2','cement_co2','coal_co2','flaring_co2','gas_co2','oil_co2','other_industry_co2','co2_per_capita','cement_co2_per_capita','coal_co2_per_capita','flaring_co2_per_capita','gas_co2_per_capita','oil_co2_per_capita','other_co2_per_capita', 'share_global_co2','share_global_cumulative_co2']]"
   ]
  },
  {
   "cell_type": "code",
   "execution_count": null,
   "id": "8c619aac",
   "metadata": {},
   "outputs": [],
   "source": [
    "# use .loc to select all except the continents/unions that aren't specifically a country\n",
    "co2_df_cleaned=co2_df_cleaned.loc[co2_df_cleaned['country']!= 'Africa',:]\n",
    "co2_df_cleaned=co2_df_cleaned.loc[co2_df_cleaned['country']!= 'Asia',:]\n",
    "co2_df_cleaned=co2_df_cleaned.loc[co2_df_cleaned['country']!= 'Asia (excl. China & India)',:]\n",
    "co2_df_cleaned=co2_df_cleaned.loc[co2_df_cleaned['country']!= 'Europe',:]\n",
    "co2_df_cleaned=co2_df_cleaned.loc[co2_df_cleaned['country']!= 'Europe (excl. EU-27)',:]\n",
    "co2_df_cleaned=co2_df_cleaned.loc[co2_df_cleaned['country']!= 'Europe (excl. EU-28)',:]\n",
    "co2_df_cleaned=co2_df_cleaned.loc[co2_df_cleaned['country']!= 'European Union (27)',:]\n",
    "co2_df_cleaned=co2_df_cleaned.loc[co2_df_cleaned['country']!= 'European Union (28)',:]\n",
    "co2_df_cleaned=co2_df_cleaned.loc[co2_df_cleaned['country']!= 'High-income countries',:]\n",
    "co2_df_cleaned=co2_df_cleaned.loc[co2_df_cleaned['country']!= 'International transport',:]\n",
    "co2_df_cleaned=co2_df_cleaned.loc[co2_df_cleaned['country']!= 'Kuwaiti Oil Fires',:]\n",
    "co2_df_cleaned=co2_df_cleaned.loc[co2_df_cleaned['country']!= 'Low-income countries',:]\n",
    "co2_df_cleaned=co2_df_cleaned.loc[co2_df_cleaned['country']!= 'Lower-middle-income countries',:]\n",
    "co2_df_cleaned=co2_df_cleaned.loc[co2_df_cleaned['country']!= 'North America',:]\n",
    "co2_df_cleaned=co2_df_cleaned.loc[co2_df_cleaned['country']!= 'North America (excl. USA)',:]\n",
    "co2_df_cleaned=co2_df_cleaned.loc[co2_df_cleaned['country']!= 'Panama Canal Zone',:]\n",
    "co2_df_cleaned=co2_df_cleaned.loc[co2_df_cleaned['country']!= 'South America',:]\n",
    "co2_df_cleaned=co2_df_cleaned.loc[co2_df_cleaned['country']!= 'Upper-middle-income countries',:]\n"
   ]
  },
  {
   "cell_type": "code",
   "execution_count": null,
   "id": "028e8dc2",
   "metadata": {},
   "outputs": [],
   "source": [
    "# clean up indexing such that there is a primary key for loading to PostgreSQL\n",
    "co2_df_cleaned=co2_df_cleaned.reset_index()"
   ]
  },
  {
   "cell_type": "code",
   "execution_count": null,
   "id": "fb0190b2",
   "metadata": {},
   "outputs": [],
   "source": [
    "# clean up indexing such that there is a primary key for loading to PostgreSQL\n",
    "co2_df_cleaned=co2_df_cleaned.drop('index',axis=1)"
   ]
  },
  {
   "cell_type": "code",
   "execution_count": null,
   "id": "7b88952d",
   "metadata": {},
   "outputs": [],
   "source": [
    "# clean up indexing such that there is a primary key for loading to PostgreSQL\n",
    "co2_df_cleaned.index += 1"
   ]
  },
  {
   "cell_type": "code",
   "execution_count": null,
   "id": "210da7b7",
   "metadata": {},
   "outputs": [],
   "source": [
    "# clean up indexing such that there is a primary key for loading to PostgreSQL\n",
    "co2_df_cleaned=co2_df_cleaned.reset_index()\n",
    "co2_df_cleaned.head()"
   ]
  },
  {
   "cell_type": "code",
   "execution_count": null,
   "id": "76557bdc",
   "metadata": {},
   "outputs": [],
   "source": [
    "co2_df_cleaned=co2_df_cleaned.rename(columns={'index': 'id'})"
   ]
  },
  {
   "cell_type": "code",
   "execution_count": null,
   "id": "0003f6d4",
   "metadata": {},
   "outputs": [],
   "source": [
    "co2_df_cleaned.head()"
   ]
  },
  {
   "cell_type": "code",
   "execution_count": null,
   "id": "f6dae3a7",
   "metadata": {},
   "outputs": [],
   "source": [
    "# display column names to help create table in PostgreSQLco2_df_cleaned=co2_df_cleaned.rename(columns={'index':'id'})\n",
    "co2_df_cleaned.columns"
   ]
  },
  {
   "cell_type": "markdown",
   "id": "608a2058",
   "metadata": {},
   "source": [
    "## Loading"
   ]
  },
  {
   "cell_type": "code",
   "execution_count": null,
   "id": "f65f3268",
   "metadata": {},
   "outputs": [],
   "source": [
    "# import SQLalchemy dependencies\n",
    "from sqlalchemy import create_engine, inspect"
   ]
  },
  {
   "cell_type": "code",
   "execution_count": null,
   "id": "dc818eb1",
   "metadata": {},
   "outputs": [],
   "source": [
    "# create conneciton to PostgreSQL\n",
    "protocol = 'postgresql'\n",
    "username = 'postgres'\n",
    "password = 'bootcamp'\n",
    "host = 'localhost'\n",
    "port = 5432\n",
    "database_name = 'world_carbon_emissions_db'\n",
    "rds_connection_string = f'{protocol}://{username}:{password}@{host}:{port}/{database_name}'\n",
    "engine = create_engine(rds_connection_string)"
   ]
  },
  {
   "cell_type": "code",
   "execution_count": null,
   "id": "e0871255",
   "metadata": {},
   "outputs": [],
   "source": [
    "# Confirm tables\n",
    "inspector = inspect(engine)\n",
    "inspector.get_table_names()"
   ]
  },
  {
   "cell_type": "code",
   "execution_count": null,
   "id": "c6ca2212",
   "metadata": {},
   "outputs": [],
   "source": [
    "# load world carbon emissions dataframe into database\n",
    "co2_df_cleaned.to_sql(name='world_co2', con=engine, if_exists='append', index=False)"
   ]
  },
  {
   "cell_type": "code",
   "execution_count": null,
   "id": "b01c6b4d",
   "metadata": {},
   "outputs": [],
   "source": []
  },
  {
   "cell_type": "code",
   "execution_count": null,
   "id": "40286cb3",
   "metadata": {},
   "outputs": [],
   "source": []
  }
 ],
 "metadata": {
  "kernelspec": {
   "display_name": "Python 3 (ipykernel)",
   "language": "python",
   "name": "python3"
  },
  "language_info": {
   "codemirror_mode": {
    "name": "ipython",
    "version": 3
   },
   "file_extension": ".py",
   "mimetype": "text/x-python",
   "name": "python",
   "nbconvert_exporter": "python",
   "pygments_lexer": "ipython3",
   "version": "3.8.13"
  }
 },
 "nbformat": 4,
 "nbformat_minor": 5
}
