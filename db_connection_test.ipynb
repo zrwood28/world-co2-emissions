{
 "cells": [
  {
   "cell_type": "code",
   "execution_count": null,
   "id": "933360da",
   "metadata": {},
   "outputs": [],
   "source": [
    "import numpy as np\n",
    "import sqlalchemy\n",
    "from flask import Flask, render_template, jsonify\n",
    "from sqlalchemy.ext.automap import automap_base\n",
    "from sqlalchemy.orm import Session\n",
    "from sqlalchemy import create_engine, func, Column, Integer, String, DateTime, Text, MetaData"
   ]
  },
  {
   "cell_type": "code",
   "execution_count": null,
   "id": "69c6523a",
   "metadata": {},
   "outputs": [],
   "source": [
    "protocol = \"postgresql\"\n",
    "username = \"postgres\"\n",
    "password = \"bootcamp\"\n",
    "host = \"localhost\"\n",
    "port = 5432\n",
    "database_name = \"world_carbon_emissions_db\"\n",
    "# database_name = \"spotify_top_50_test\"\n",
    "\n",
    "engine = create_engine(f\"{protocol}://{username}:{password}@{host}:{port}/{database_name}\")"
   ]
  },
  {
   "cell_type": "code",
   "execution_count": null,
   "id": "896b0a7c",
   "metadata": {},
   "outputs": [],
   "source": [
    "Base = automap_base()\n",
    "Base.prepare(engine, reflect=True)\n",
    "Base.classes.keys()"
   ]
  },
  {
   "cell_type": "code",
   "execution_count": null,
   "id": "e4952799",
   "metadata": {},
   "outputs": [],
   "source": [
    "w = Base.classes.world_co2"
   ]
  },
  {
   "cell_type": "code",
   "execution_count": null,
   "id": "8ff3a6af",
   "metadata": {},
   "outputs": [],
   "source": [
    "session = Session(engine)\n",
    "\n",
    "# query all years\n",
    "results = session.query(w.id, w.country, w.year, w.iso_code, w.population, w.gdp, w.co2, w.cement_co2, w.coal_co2, w.flaring_co2,\\\n",
    "                       w.gas_co2, w.oil_co2, w.other_industry_co2, w.co2_per_capita, w.cement_co2_per_capita, w.coal_co2_per_capita,\\\n",
    "                       w.flaring_co2_per_capita, w.gas_co2_per_capita, w.oil_co2_per_capita, w.other_co2_per_capita,\\\n",
    "                       w.share_global_co2, w.share_global_cumulative_co2).all()\n",
    "\n",
    "session.close()"
   ]
  },
  {
   "cell_type": "code",
   "execution_count": null,
   "id": "196e0221",
   "metadata": {},
   "outputs": [],
   "source": [
    "results_list = []\n",
    "for id, country, year, iso_code, population, gdp, co2, cement_co2, coal_co2, flaring_co2, gas_co2, oil_co2, other_industry_co2,\\\n",
    "co2_per_capita, cement_co2_per_capita, coal_co2_per_capita, flaring_co2_per_capita, gas_co2_per_capita, oil_co2_per_capita,\\\n",
    "other_co2_per_capita, share_global_co2, share_global_cumulative_co2 in results:\n",
    "    results_dict = {}\n",
    "    results_dict['id'] = id\n",
    "    results_dict['country'] = country\n",
    "    results_dict['year'] = year\n",
    "    results_dict['iso_code'] = iso_code\n",
    "    results_dict['population'] = population\n",
    "    results_dict['gdp'] = gdp\n",
    "    results_dict['co2'] = co2\n",
    "    results_dict['cement_co2'] = cement_co2   \n",
    "    results_dict['coal_co2'] = coal_co2\n",
    "    results_dict['flaring_co2'] = flaring_co2\n",
    "    results_dict['gas_co2'] = gas_co2\n",
    "    results_dict['oil_co2'] = oil_co2\n",
    "    results_dict['other_industry_co2'] = other_industry_co2\n",
    "    results_dict['co2_per_capita'] = co2_per_capita\n",
    "    results_dict['cement_co2_per_capita'] = cement_co2_per_capita\n",
    "    results_dict['coal_co2_per_capita'] = coal_co2_per_capita \n",
    "    results_dict['flaring_co2_per_capita'] = flaring_co2_per_capita\n",
    "    results_dict['gas_co2_per_capita'] = gas_co2_per_capita\n",
    "    results_dict['oil_co2_per_capita'] = oil_co2_per_capita\n",
    "    results_dict['other_co2_per_capita'] = other_co2_per_capita\n",
    "    results_dict['share_global_co2'] = share_global_co2\n",
    "    results_dict['share_global_cumulative_co2'] = share_global_cumulative_co2\n",
    "    \n",
    "    \n",
    "    results_list.append(results_dict)\n",
    "    \n",
    "#     years_list.append(year[0][0])"
   ]
  },
  {
   "cell_type": "code",
   "execution_count": null,
   "id": "2691f8e9",
   "metadata": {},
   "outputs": [],
   "source": [
    "results_list"
   ]
  },
  {
   "cell_type": "code",
   "execution_count": null,
   "id": "d8f85d80",
   "metadata": {},
   "outputs": [],
   "source": []
  }
 ],
 "metadata": {
  "kernelspec": {
   "display_name": "Python 3 (ipykernel)",
   "language": "python",
   "name": "python3"
  },
  "language_info": {
   "codemirror_mode": {
    "name": "ipython",
    "version": 3
   },
   "file_extension": ".py",
   "mimetype": "text/x-python",
   "name": "python",
   "nbconvert_exporter": "python",
   "pygments_lexer": "ipython3",
   "version": "3.8.13"
  }
 },
 "nbformat": 4,
 "nbformat_minor": 5
}
